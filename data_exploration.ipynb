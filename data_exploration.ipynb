{
 "cells": [
  {
   "cell_type": "markdown",
   "metadata": {},
   "source": [
    "# Data exploration\n",
    "\n",
    "## Load the data"
   ]
  },
  {
   "cell_type": "markdown",
   "metadata": {},
   "source": [
    "Gather paths from private json file"
   ]
  },
  {
   "cell_type": "code",
   "execution_count": null,
   "metadata": {},
   "outputs": [],
   "source": [
    "import json\n",
    "\n",
    "with open('paths.json') as f:\n",
    "    json_data = json.load(f)\n",
    "json_data"
   ]
  },
  {
   "cell_type": "code",
   "execution_count": null,
   "metadata": {},
   "outputs": [],
   "source": [
    "csv_file = json_data['data']['file']"
   ]
  },
  {
   "cell_type": "markdown",
   "metadata": {},
   "source": [
    "Load into dataframe"
   ]
  },
  {
   "cell_type": "code",
   "execution_count": null,
   "metadata": {},
   "outputs": [],
   "source": [
    "import pandas as pd\n",
    "\n",
    "df = pd.read_csv(csv_file, engine='python')"
   ]
  },
  {
   "cell_type": "markdown",
   "metadata": {},
   "source": [
    "Inspect properties"
   ]
  },
  {
   "cell_type": "code",
   "execution_count": null,
   "metadata": {},
   "outputs": [],
   "source": [
    "df"
   ]
  },
  {
   "cell_type": "code",
   "execution_count": null,
   "metadata": {},
   "outputs": [],
   "source": [
    "df.info()"
   ]
  },
  {
   "cell_type": "code",
   "execution_count": null,
   "metadata": {},
   "outputs": [],
   "source": [
    "df['Module'].unique()"
   ]
  },
  {
   "cell_type": "code",
   "execution_count": null,
   "metadata": {},
   "outputs": [],
   "source": [
    "df['Module'].value_counts()"
   ]
  },
  {
   "cell_type": "code",
   "execution_count": null,
   "metadata": {},
   "outputs": [],
   "source": [
    "df['Type'].unique()"
   ]
  },
  {
   "cell_type": "code",
   "execution_count": null,
   "metadata": {},
   "outputs": [],
   "source": [
    "df['Type'].value_counts()"
   ]
  },
  {
   "cell_type": "code",
   "execution_count": null,
   "metadata": {},
   "outputs": [],
   "source": [
    "count_series = df.groupby(['Module', 'Type']).size()\n",
    "new_df = count_series.to_frame(name = 'Entries').reset_index()\n",
    "new_df.sort_values(by=['Entries'], ascending=False)"
   ]
  },
  {
   "cell_type": "markdown",
   "metadata": {},
   "source": [
    "## Display data"
   ]
  },
  {
   "cell_type": "code",
   "execution_count": null,
   "metadata": {},
   "outputs": [],
   "source": [
    "%matplotlib inline\n",
    "import matplotlib.pyplot as plt\n",
    "import seaborn as sns\n",
    "\n",
    "plt.subplots(figsize=(20,15))\n",
    "g=sns.countplot(x=\"Module\", data=df)\n",
    "g.set_xticklabels(g.get_xticklabels(), rotation=90)\n",
    "print('Plot it...')"
   ]
  },
  {
   "cell_type": "code",
   "execution_count": null,
   "metadata": {},
   "outputs": [],
   "source": [
    "plt.subplots(figsize=(20,15))\n",
    "g=sns.countplot(x=\"Type\", data=df)\n",
    "g.set_xticklabels(g.get_xticklabels(), rotation=90)\n",
    "print('Plot it')"
   ]
  },
  {
   "cell_type": "code",
   "execution_count": null,
   "metadata": {},
   "outputs": [],
   "source": [
    "def cat_corr(df, x, y):\n",
    "    modules = df[x].unique()\n",
    "    types = df[y].unique()\n",
    "    cat = [[0 for i in range(len(types))] for j in range(len(modules))]\n",
    "    # prepare cross-correlation\n",
    "    count_series = df.groupby([x, y]).size()\n",
    "    # fill list of lists\n",
    "    for imod, mod in enumerate(modules):\n",
    "        for ityp, typ in enumerate(types):\n",
    "            try:\n",
    "                cat[imod][ityp] = count_series[mod][typ]\n",
    "            except KeyError:\n",
    "                pass\n",
    "    return cat"
   ]
  },
  {
   "cell_type": "code",
   "execution_count": null,
   "metadata": {},
   "outputs": [],
   "source": [
    "#plt.subplots(figsize=(20,15))\n",
    "#sns.heatmap(cat_corr(df, 'Module', 'Type'), xticklabels=types, yticklabels=modules)"
   ]
  },
  {
   "cell_type": "markdown",
   "metadata": {},
   "source": [
    "## Analysis"
   ]
  },
  {
   "cell_type": "code",
   "execution_count": null,
   "metadata": {},
   "outputs": [],
   "source": [
    "import spacy\n",
    "# from spacy.lang.xx import MultiLanguage\n",
    "nlpEN = spacy.load('en')\n",
    "nlpDE = spacy.load('de')\n",
    "\n",
    "def get_module_dummy(name):\n",
    "    module = {}\n",
    "    module['Module'] = name\n",
    "    return module\n",
    "\n",
    "def isGermanName(name):\n",
    "    # name-like entries, e.g. \"Kostenlose Service-Hotline\" should return false\n",
    "    humanName = False\n",
    "   \n",
    "    doc = nlpDE(name)\n",
    "    endIndex = 0\n",
    "    for ent in doc.ents:\n",
    "        #print(ent.text, ent.start_char, ent.end_char, ent.label_)\n",
    "        humanName = True\n",
    "        endIndex = ent.end_char\n",
    "        if(ent.label_ != \"PER\"):\n",
    "            humanName = False\n",
    "            break\n",
    "    \n",
    "    if(humanName and endIndex < len(name)):\n",
    "        #including unprocessed part\n",
    "        humanName = False\n",
    "    \n",
    "    return humanName\n",
    "\n",
    "# NOT used\n",
    "def isEnglishName(name):\n",
    "    # name-like entries, e.g. \"Kostenlose Service-Hotline\" should return false\n",
    "    humanName = False\n",
    "    \n",
    "    doc = nlpEN(name)\n",
    "    endIndex = 0\n",
    "    for ent in doc.ents:\n",
    "        # print(ent.text, ent.start_char, ent.end_char, ent.label_)\n",
    "        humanName = True\n",
    "        if(ent.label_ != \"PERSON\"):\n",
    "            humanName = False\n",
    "            break\n",
    "            \n",
    "    if(humanName and endIndex < len(name)):\n",
    "        #including unprocessed part\n",
    "        humanName = False\n",
    "        \n",
    "    return humanName\n",
    "\n",
    "def filter_names(nameData):\n",
    "    removalList = []\n",
    "    for name, count in nameData.items():\n",
    "        # name-like entries, e.g. \"Kostenlose Service-Hotline\" could be removed here\n",
    "        if(not isGermanName(name)):\n",
    "            removalList.append(name)\n",
    "    \n",
    "    print(\"Count of names:\", len(nameData))\n",
    "    print(\"After filtering German Words:\", len(nameData)- len(removalList))\n",
    "    \n",
    "    for name in removalList:\n",
    "        nameData = nameData.drop(labels = name)\n",
    "\n",
    "    return nameData\n",
    "\n",
    "def getCountsData(df, moduleName, data_type):\n",
    "    series = df.loc[(df['Module'] == moduleName) & (df['Type'] == data_type)]['Data'].value_counts()\n",
    "    return series\n",
    "\n",
    "def get_mapped_data(data_frame, module_name, data_type, reverse=False):\n",
    "    data = data_frame.loc[(data_frame['Module'] == module_name) & (data_frame['Type'] == data_type)]\n",
    "    \n",
    "    series = None\n",
    "    if(reverse):\n",
    "        series = pd.Series(data['Source'].tolist(), index=data['Data'])\n",
    "    else:\n",
    "        series = pd.Series(data['Data'].tolist(), index=data['Source'])\n",
    "    \n",
    "    return series\n",
    "\n",
    "# the major method defines which data to abstract and how to abstract them\n",
    "def get_data(data_frame, module_name, data_type):\n",
    "    data = None\n",
    "    \n",
    "    # sfp_names\n",
    "    if (module_name == 'sfp_names'):\n",
    "        # only HUMAN_NAME is handled while no other type exists in current data file\n",
    "        if (data_type == 'HUMAN_NAME'):\n",
    "            # collected human names and their counts\n",
    "            data = getCountsData(data_frame, module_name, data_type)\n",
    "            # name-like entries, e.g. \"Kostenlose Service-Hotline\" could be removed here\n",
    "            data = filter_names(data)\n",
    "    \n",
    "    # sfp_dnsresolve\n",
    "    if (module_name == 'sfp_dnsresolve'):\n",
    "        if (data_type == 'IP_ADDRESS'):\n",
    "            # ip vs. hostname\n",
    "            data = get_mapped_data(data_frame, module_name, data_type, True)\n",
    "            \n",
    "        if(data_type == 'AFFILIATE_INTERNET_NAME'):\n",
    "            # \n",
    "            data = get_mapped_data(data_frame, module_name, data_type)\n",
    "    \n",
    "    # sfp_pastebin\n",
    "    if (module_name == 'sfp_pastebin'):\n",
    "        if (data_type == 'LEAKSITE_CONTENT'):\n",
    "            # site content found on pastebins (pure text storage on internet)\n",
    "            data = get_mapped_data(data_frame, module_name, data_type)\n",
    "            \n",
    "        if(data_type == 'LEAKSITE_URL'):\n",
    "            # site url found on pastebins (including query parameters etc.)\n",
    "            data = get_mapped_data(data_frame, module_name, data_type, True)\n",
    "    \n",
    "    if(data is not None):\n",
    "        # dict is automatically serializable\n",
    "        data = data.to_dict()\n",
    "    \n",
    "    return data\n",
    "\n",
    "def get_types(data_frame, module_name):\n",
    "    return data_frame.loc[df['Module'] == module_name]['Type'].unique()\n",
    "\n",
    "def get_module(data_frame, module_name):\n",
    "    # get module data if defined\n",
    "    result = {}\n",
    "    for data_type in get_types(data_frame, module_name):\n",
    "        data = get_data(data_frame, module_name, data_type)\n",
    "        if (data is not None):\n",
    "            result[data_type] = data\n",
    "    \n",
    "    if(len(result) == 0):\n",
    "        # no data exists or defined\n",
    "        return None\n",
    "    \n",
    "    module = get_module_dummy(module_name)\n",
    "    module['Result'] = result\n",
    "    \n",
    "    return module\n"
   ]
  },
  {
   "cell_type": "code",
   "execution_count": null,
   "metadata": {},
   "outputs": [],
   "source": [
    "name = \"Informationsabende Medizinisch-Psychologische\"\n",
    "print(isEnglishName(name), isGermanName(name))"
   ]
  },
  {
   "cell_type": "markdown",
   "metadata": {},
   "source": [
    "#### sfp_names"
   ]
  },
  {
   "cell_type": "code",
   "execution_count": null,
   "metadata": {},
   "outputs": [],
   "source": [
    "#sfp_names - HUMAN_NAME\n",
    "types = df.loc[df['Module'] == 'sfp_names']\n",
    "#['Type'].value_counts()\n",
    "#print (types.info())\n",
    "#print(\"=================================================\")\n",
    "#results = df.loc[(df['Module'] == 'sfp_binstring')]['Source'][0]\n",
    "#print(results)\n",
    "\n",
    "data = df.loc[(df['Module'] == 'sfp_dnsresolve') & (df['Type'] == 'AFFILIATE_INTERNET_NAME')][['Source', 'Data']]\n",
    "#print(data)\n",
    "\n",
    "print(\"=================================================\")\n"
   ]
  },
  {
   "cell_type": "code",
   "execution_count": null,
   "metadata": {},
   "outputs": [],
   "source": [
    "modules = [\"sfp_names\", \"sfp_dnsresolve\", \"sfp_pastebin\"]\n",
    "result = []\n",
    "\n",
    "for module_name in modules:\n",
    "    data = get_module(df, module_name)\n",
    "    if (data is not None):\n",
    "        result.append(data)\n",
    "\n",
    "result = json.dumps(result, indent=4)\n",
    "print(result)"
   ]
  },
  {
   "cell_type": "code",
   "execution_count": null,
   "metadata": {},
   "outputs": [],
   "source": [
    "#save results to json file\n",
    "#my_json_string = json.dumps(results)\n",
    "with open('data/data.json', 'w') as outfile:\n",
    "    outfile.truncate()\n",
    "    outfile.write(json.dumps(result, indent=4))"
   ]
  },
  {
   "cell_type": "code",
   "execution_count": null,
   "metadata": {
    "scrolled": false
   },
   "outputs": [],
   "source": [
    "#read results from json file\n",
    "with open('data/data.json') as json_data:\n",
    "    data = json.load(json_data)\n",
    "    print(data)"
   ]
  },
  {
   "cell_type": "code",
   "execution_count": null,
   "metadata": {},
   "outputs": [],
   "source": []
  }
 ],
 "metadata": {
  "kernelspec": {
   "display_name": "Python 3",
   "language": "python",
   "name": "python3"
  },
  "language_info": {
   "codemirror_mode": {
    "name": "ipython",
    "version": 3
   },
   "file_extension": ".py",
   "mimetype": "text/x-python",
   "name": "python",
   "nbconvert_exporter": "python",
   "pygments_lexer": "ipython3",
   "version": "3.7.1"
  }
 },
 "nbformat": 4,
 "nbformat_minor": 2
}
