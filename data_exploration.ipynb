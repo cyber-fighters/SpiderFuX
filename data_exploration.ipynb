{
 "cells": [
  {
   "cell_type": "markdown",
   "metadata": {},
   "source": [
    "# Data exploration\n",
    "\n",
    "## Load the data"
   ]
  },
  {
   "cell_type": "markdown",
   "metadata": {},
   "source": [
    "Gather paths from private json file"
   ]
  },
  {
   "cell_type": "code",
   "execution_count": null,
   "metadata": {},
   "outputs": [],
   "source": [
    "import json\n",
    "\n",
    "with open('paths.json') as f:\n",
    "    json_data = json.load(f)\n",
    "json_data"
   ]
  },
  {
   "cell_type": "code",
   "execution_count": null,
   "metadata": {},
   "outputs": [],
   "source": [
    "csv_file = json_data['data']['file']"
   ]
  },
  {
   "cell_type": "markdown",
   "metadata": {},
   "source": [
    "Load into dataframe"
   ]
  },
  {
   "cell_type": "code",
   "execution_count": null,
   "metadata": {},
   "outputs": [],
   "source": [
    "import pandas as pd\n",
    "\n",
    "df = pd.read_csv(csv_file, parse_dates=['Last Seen'], engine='python')"
   ]
  },
  {
   "cell_type": "markdown",
   "metadata": {},
   "source": [
    "Inspect properties"
   ]
  },
  {
   "cell_type": "code",
   "execution_count": null,
   "metadata": {},
   "outputs": [],
   "source": [
    "df"
   ]
  },
  {
   "cell_type": "code",
   "execution_count": null,
   "metadata": {},
   "outputs": [],
   "source": [
    "df.info()"
   ]
  },
  {
   "cell_type": "code",
   "execution_count": null,
   "metadata": {},
   "outputs": [],
   "source": [
    "df['Module'].unique()"
   ]
  },
  {
   "cell_type": "code",
   "execution_count": null,
   "metadata": {},
   "outputs": [],
   "source": [
    "df['Module'].value_counts()"
   ]
  },
  {
   "cell_type": "code",
   "execution_count": null,
   "metadata": {},
   "outputs": [],
   "source": [
    "df['Type'].unique()"
   ]
  },
  {
   "cell_type": "code",
   "execution_count": null,
   "metadata": {},
   "outputs": [],
   "source": [
    "df['Type'].value_counts()"
   ]
  },
  {
   "cell_type": "code",
   "execution_count": null,
   "metadata": {},
   "outputs": [],
   "source": [
    "count_series = df.groupby(['Module', 'Type']).size()\n",
    "new_df = count_series.to_frame(name = 'Entries').reset_index()\n",
    "new_df"
   ]
  },
  {
   "cell_type": "markdown",
   "metadata": {},
   "source": [
    "## Display data"
   ]
  },
  {
   "cell_type": "code",
   "execution_count": null,
   "metadata": {},
   "outputs": [],
   "source": [
    "%matplotlib inline\n",
    "import matplotlib.pyplot as plt\n",
    "import seaborn as sns\n",
    "\n",
    "plt.subplots(figsize=(20,15))\n",
    "g=sns.countplot(x=\"Module\", data=df)\n",
    "g.set_xticklabels(g.get_xticklabels(), rotation=90)\n",
    "print('Plot it...')"
   ]
  },
  {
   "cell_type": "code",
   "execution_count": null,
   "metadata": {},
   "outputs": [],
   "source": [
    "plt.subplots(figsize=(20,15))\n",
    "g=sns.countplot(x=\"Type\", data=df)\n",
    "g.set_xticklabels(g.get_xticklabels(), rotation=90)\n",
    "print('Plot it')"
   ]
  },
  {
   "cell_type": "code",
   "execution_count": null,
   "metadata": {},
   "outputs": [],
   "source": [
    "def cat_corr(df, x, y):\n",
    "    modules = df[x].unique()\n",
    "    types = df[y].unique()\n",
    "    cat = [[0 for i in range(len(types))] for j in range(len(modules))]\n",
    "    # prepare cross-correlation\n",
    "    count_series = df.groupby([x, y]).size()\n",
    "    # fill list of lists\n",
    "    for imod, mod in enumerate(modules):\n",
    "        for ityp, typ in enumerate(types):\n",
    "            try:\n",
    "                cat[imod][ityp] = count_series[mod][typ]\n",
    "            except KeyError:\n",
    "                pass\n",
    "    return cat"
   ]
  },
  {
   "cell_type": "code",
   "execution_count": null,
   "metadata": {},
   "outputs": [],
   "source": [
    "plt.subplots(figsize=(20,15))\n",
    "sns.heatmap(cat_corr(df, 'Module', 'Type'), xticklabels=types, yticklabels=modules)"
   ]
  },
  {
   "cell_type": "markdown",
   "metadata": {},
   "source": [
    "## Analysis"
   ]
  },
  {
   "cell_type": "code",
   "execution_count": null,
   "metadata": {},
   "outputs": [],
   "source": [
    "def appendBracket(data):\n",
    "    return \"{\" + data + \"}\"\n",
    "    \n",
    "def getModuleJSON(name):\n",
    "    moduleString = '{\"Module\": \"moduleName\", \"Result\": moduleData}'\n",
    "    moduleString = moduleString.replace(\"moduleName\", name)\n",
    "    return moduleString\n",
    "\n",
    "#TODO\n",
    "def isHumanName(name):\n",
    "    #name-like entries, e.g. \"Kostenlose Service-Hotline\" should return false\n",
    "    return True\n",
    "\n",
    "#TODO\n",
    "def filterNames(nameData):\n",
    "    removalList = []\n",
    "    for name, count in nameData.items():\n",
    "        #name-like entries, e.g. \"Kostenlose Service-Hotline\" could be removed here\n",
    "        if(not isHumanName(name)):\n",
    "            removalList.append(name)\n",
    "      \n",
    "    for name in removalList:\n",
    "        nameData = nameData.drop(labels = name)\n",
    "\n",
    "    return nameData\n",
    "    \n",
    "def getNamesJSON(df):\n",
    "    moduleString = getModuleJSON(\"sfp_names\")\n",
    "    \n",
    "    dataString = \"\"\n",
    "    first = True\n",
    "    for nameType in df.loc[df['Module'] == 'sfp_names']['Type'].unique():\n",
    "        if (not first):\n",
    "            dataString = dataString + \", \"\n",
    "            first = False\n",
    "        nameData = df.loc[(df['Module'] == 'sfp_names') & (df['Type'] == nameType)]['Data'].value_counts()\n",
    "        nameData = filterNames(nameData)\n",
    "        jsonData = nameData.to_json()\n",
    "        dataString = dataString + '\"' + nameType + '\":' + jsonData\n",
    "        \n",
    "    moduleString = moduleString.replace(\"moduleData\", appendBracket(dataString))\n",
    "    return moduleString\n",
    "    "
   ]
  },
  {
   "cell_type": "code",
   "execution_count": null,
   "metadata": {},
   "outputs": [],
   "source": [
    "#sfp_names - HUMAN_NAME\n",
    "types = df.loc[df['Module'] == 'sfp_names']['Type'].value_counts()\n",
    "print (types)\n",
    "print(\"=================================================\")\n",
    "results = df.loc[(df['Module'] == 'sfp_names') & (df['Type'] == 'HUMAN_NAME')]['Data'].value_counts()\n",
    "results.to_json()\n",
    "\n",
    "resultString = getNamesJSON(df)\n",
    "print(resultString)"
   ]
  },
  {
   "cell_type": "code",
   "execution_count": null,
   "metadata": {},
   "outputs": [],
   "source": [
    "#save results to json file\n",
    "#my_json_string = json.dumps(results)\n",
    "with open('data/data.json', 'w') as outfile:\n",
    "    outfile.truncate()\n",
    "    json.dump(resultString, outfile)"
   ]
  },
  {
   "cell_type": "code",
   "execution_count": null,
   "metadata": {},
   "outputs": [],
   "source": [
    "#read results from json file\n",
    "with open('data/data.json') as json_data:\n",
    "    data = json.load(json_data)\n",
    "    print(data)"
   ]
  },
  {
   "cell_type": "code",
   "execution_count": null,
   "metadata": {},
   "outputs": [],
   "source": []
  }
 ],
 "metadata": {
  "kernelspec": {
   "display_name": "Python 3",
   "language": "python",
   "name": "python3"
  },
  "language_info": {
   "codemirror_mode": {
    "name": "ipython",
    "version": 3
   },
   "file_extension": ".py",
   "mimetype": "text/x-python",
   "name": "python",
   "nbconvert_exporter": "python",
   "pygments_lexer": "ipython3",
   "version": "3.7.0"
  }
 },
 "nbformat": 4,
 "nbformat_minor": 2
}
